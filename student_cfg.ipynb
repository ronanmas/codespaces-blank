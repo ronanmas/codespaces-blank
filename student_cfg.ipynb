{
 "cells": [
  {
   "cell_type": "code",
   "execution_count": 42,
   "metadata": {},
   "outputs": [
    {
     "name": "stdout",
     "output_type": "stream",
     "text": [
      "['S -> NP VP\\n', 'VP -> V NP PP | V NP | V N | V Nom\\n', 'NP -> \"Jane\" | \"Tom\" | \"Joe\" | \"Mary\" | \"Bob\" | Det N\\n', 'PP -> P Det Nom\\n', 'Nom -> ADJ N\\n', 'P -> \"in\" | \"to\"\\n', 'Det -> \"a\" | \"the\"\\n', 'N -> \"course\" | \"courses\" | \"class\" | \"Mathematics\" | \"English\" | \"Spanish\" | \"History\" | \"Science\" | \"boy\" | \"girl\" | \"student\"\\n', 'V -> \"likes\" | \"dislikes\" | \"is\"\\n', 'ADJ -> \"python\" | \"math\" | \"history\" | \"english\"']\n"
     ]
    }
   ],
   "source": [
    "with open(\"student_cfg.txt\") as cfg:\n",
    "    read_cfg = cfg.readlines()\n",
    "\n",
    "\n",
    "part = []\n",
    "new_cfg = []\n",
    "lol = []\n",
    "wow = []\n",
    "cfg_dict = {}\n",
    "# print(read_cfg)\n",
    "\n",
    "# for line in read_cfg:\n",
    "    # print(line)\n",
    "    # for word in line:\n",
    "    #     if word ==\"|\":\n",
    "    #         line = line.split()\n",
    "    # print(line)\n",
    "print(read_cfg)"
   ]
  },
  {
   "cell_type": "code",
   "execution_count": 49,
   "metadata": {},
   "outputs": [
    {
     "name": "stdout",
     "output_type": "stream",
     "text": [
      "{'S ': {'tags': ['NP VP'], 'words': []}, 'VP ': {'tags': [' V NP PP ', ' V NP ', ' V N ', ' V Nom'], 'words': []}, 'NP ': {'words': ['Jane', 'Tom', 'Joe', 'Mary', 'Bob'], 'tags': ['Det', 'N']}, 'PP ': {'tags': ['P Det Nom'], 'words': []}, 'Nom ': {'tags': ['ADJ N'], 'words': []}, 'P ': {'words': ['in', 'to'], 'tags': []}, 'Det ': {'words': ['a', 'the'], 'tags': []}, 'N ': {'words': ['course', 'courses', 'class', 'Mathematics', 'English', 'Spanish', 'History', 'Science', 'boy', 'girl', 'student'], 'tags': []}, 'V ': {'words': ['likes', 'dislikes', 'is'], 'tags': []}, 'ADJ ': {'words': ['python', 'math', 'history', 'english'], 'tags': []}}\n"
     ]
    }
   ],
   "source": [
    "\n",
    "def dict(data_file):\n",
    "    data_dict = {}\n",
    "    for line in data_file:\n",
    "        line = line.strip()\n",
    "        parts = line.split(\"->\")\n",
    "        key = parts[0]\n",
    "        value = parts[1]\n",
    "        # print(value)\n",
    "        data_dict[key] = value\n",
    "    return data_dict\n",
    "\n",
    "data_list = []\n",
    "\n",
    "\n",
    "data_dict = dict(read_cfg)\n",
    "# print(student_file)\n",
    "\n",
    "for key, value in data_dict.items():\n",
    "    parts = value\n",
    "    if '\"' in parts:\n",
    "       words = parts.split(\" \")\n",
    "       data_list = []\n",
    "       list = []\n",
    "       for word in words:\n",
    "           if '\"' in word:\n",
    "               word = word.replace('\"',\"\")\n",
    "               data_list.append(word.strip())\n",
    "           else:\n",
    "               if len(word)== 0 or \"|\" in word:\n",
    "                   continue\n",
    "               else:\n",
    "                list.append(word.strip())\n",
    "       inner_dict = {\"words\" : data_list}\n",
    "       inner_dict[\"words\"] = data_list\n",
    "       inner_dict[\"tags\"] = list\n",
    "       cfg_dict[key] = inner_dict\n",
    "    elif \"|\" in parts:\n",
    "        tags = parts.split(\"|\")\n",
    "        outer_dict = {\"tags\":tags, \"words\":[]}\n",
    "        cfg_dict[key]= outer_dict\n",
    "    else:\n",
    "        outer_dict = {\"tags\":[parts.strip()], \"words\":[]}\n",
    "        cfg_dict[key] = outer_dict\n",
    "\n",
    "def cfg(cfg_dict, sentence):\n",
    "    # cfg_dict = dict(cfg_data)\n",
    "    words = sentence.split()\n",
    "    pos_tags = []\n",
    "    # print(cfg_dict[\"words\"])\n",
    "    for word in words:\n",
    "        for key, value in cfg_dict.items():\n",
    "            if word not in value[\"words\"]:\n",
    "                continue\n",
    "            elif word not in value[\"words\"]:\n",
    "                return False, []\n",
    "            else:\n",
    "                pos_tags.append((key,word))\n",
    "        return pos_tags\n",
    "\n",
    "\n",
    "print(cfg_dict)"
   ]
  },
  {
   "cell_type": "code",
   "execution_count": 50,
   "metadata": {},
   "outputs": [
    {
     "ename": "TypeError",
     "evalue": "cfg() missing 1 required positional argument: 'sentence'",
     "output_type": "error",
     "traceback": [
      "\u001b[0;31m---------------------------------------------------------------------------\u001b[0m",
      "\u001b[0;31mTypeError\u001b[0m                                 Traceback (most recent call last)",
      "Cell \u001b[0;32mIn[50], line 2\u001b[0m\n\u001b[1;32m      1\u001b[0m sentence \u001b[38;5;241m=\u001b[39m \u001b[38;5;124m\"\u001b[39m\u001b[38;5;124mJane likes Mathematics\u001b[39m\u001b[38;5;124m\"\u001b[39m\n\u001b[0;32m----> 2\u001b[0m end \u001b[38;5;241m=\u001b[39m \u001b[43mcfg\u001b[49m\u001b[43m(\u001b[49m\u001b[43msentence\u001b[49m\u001b[43m)\u001b[49m\n\u001b[1;32m      3\u001b[0m \u001b[38;5;28mprint\u001b[39m(end)\n\u001b[1;32m      4\u001b[0m sentence \u001b[38;5;241m=\u001b[39m sentence\u001b[38;5;241m.\u001b[39msplit()\n",
      "\u001b[0;31mTypeError\u001b[0m: cfg() missing 1 required positional argument: 'sentence'"
     ]
    }
   ],
   "source": [
    "\n",
    "\n",
    "sentence = \"Jane likes Mathematics\"\n",
    "end = cfg(sentence)\n",
    "print(end)\n",
    "sentence = sentence.split()\n",
    "# print(sentence)\n",
    "# new_sentence = []\n",
    "# tuple = []\n",
    "# print(cfg_dict.values())\n",
    "# print(cfg_dict.items())\n",
    "# for word in sentence:\n",
    "#     print(word)\n",
    "#     for key, values in cfg_dict.items():\n",
    "#         for item in values:\n",
    "#             print(item)\n",
    "#             for i in item:\n",
    "#                 print(i)\n",
    "#                 for l in i:\n",
    "#                     print(l)\n",
    "#                     if word in l:\n",
    "#                         l = key\n",
    "#                         print(word)\n",
    "#                         tuple.append(l)\n",
    "#     tuple.append(word)\n",
    "#     new_sentence.append(tuple)\n",
    "#     tuple = []\n",
    "# print(new_sentence)\n",
    "# print(sentence)\n",
    "\n",
    "# connected = []\n",
    "# connected = \" \".join(new_sentence)\n",
    "# print(connected)\n",
    "# for key, values in cfg_dict.items():\n",
    "#     for item in values:\n",
    "#         for i in item:\n",
    "#             if \n",
    "#             for l in i:\n",
    "#                 print(l)\n",
    "            # print(i)\n",
    "            # if i in new_sentence:\n",
    "                # print(i)\n",
    "\n",
    "\n",
    "# make a function that adds tags together to eventually get a sentence"
   ]
  }
 ],
 "metadata": {
  "kernelspec": {
   "display_name": "Python 3",
   "language": "python",
   "name": "python3"
  },
  "language_info": {
   "codemirror_mode": {
    "name": "ipython",
    "version": 3
   },
   "file_extension": ".py",
   "mimetype": "text/x-python",
   "name": "python",
   "nbconvert_exporter": "python",
   "pygments_lexer": "ipython3",
   "version": "3.12.1"
  }
 },
 "nbformat": 4,
 "nbformat_minor": 2
}
